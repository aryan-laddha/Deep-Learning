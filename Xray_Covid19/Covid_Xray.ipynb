{
 "cells": [
  {
   "cell_type": "markdown",
   "id": "988d24b5",
   "metadata": {},
   "source": [
    "Importing Liabraries"
   ]
  },
  {
   "cell_type": "code",
   "execution_count": 1,
   "id": "b348a4b0",
   "metadata": {},
   "outputs": [],
   "source": [
    "import tensorflow as tf\n",
    "from keras.preprocessing.image import ImageDataGenerator\n",
    "from keras.callbacks import EarlyStopping"
   ]
  },
  {
   "cell_type": "markdown",
   "id": "adc4360d",
   "metadata": {},
   "source": [
    "Preprocessing the Training set"
   ]
  },
  {
   "cell_type": "code",
   "execution_count": 2,
   "id": "81fe9912",
   "metadata": {},
   "outputs": [
    {
     "name": "stdout",
     "output_type": "stream",
     "text": [
      "Found 148 images belonging to 2 classes.\n"
     ]
    }
   ],
   "source": [
    "train_datagen = ImageDataGenerator(rescale = 1./255,\n",
    "                                   shear_range = 0.2,\n",
    "                                   zoom_range = 0.2,\n",
    "                                   horizontal_flip = True)\n",
    "training_set = train_datagen.flow_from_directory('xray_dataset_covid19/train',\n",
    "                                                 target_size = (64, 64),\n",
    "                                                 batch_size = 32,\n",
    "                                                 class_mode = 'binary')"
   ]
  },
  {
   "cell_type": "markdown",
   "id": "ff11824a",
   "metadata": {},
   "source": [
    "Preprocessing the Test set"
   ]
  },
  {
   "cell_type": "code",
   "execution_count": 3,
   "id": "1c967d1b",
   "metadata": {},
   "outputs": [
    {
     "name": "stdout",
     "output_type": "stream",
     "text": [
      "Found 40 images belonging to 2 classes.\n"
     ]
    }
   ],
   "source": [
    "\n",
    "test_datagen = ImageDataGenerator(rescale = 1./255)\n",
    "test_set = test_datagen.flow_from_directory('xray_dataset_covid19/test',\n",
    "                                            target_size = (64, 64),\n",
    "                                            batch_size = 32,\n",
    "                                            class_mode = 'binary')"
   ]
  },
  {
   "cell_type": "markdown",
   "id": "74d95546",
   "metadata": {},
   "source": [
    "Part 2 - Building the CNN"
   ]
  },
  {
   "cell_type": "markdown",
   "id": "80b37b87",
   "metadata": {},
   "source": [
    "Initialising the CNN"
   ]
  },
  {
   "cell_type": "code",
   "execution_count": 4,
   "id": "f1187783",
   "metadata": {},
   "outputs": [],
   "source": [
    "cnn = tf.keras.models.Sequential()"
   ]
  },
  {
   "cell_type": "markdown",
   "id": "85acebc0",
   "metadata": {},
   "source": [
    "Step 1 - Convolution"
   ]
  },
  {
   "cell_type": "code",
   "execution_count": 5,
   "id": "7875266f",
   "metadata": {},
   "outputs": [],
   "source": [
    "cnn.add(tf.keras.layers.Conv2D(filters=32, kernel_size=3, activation='relu', input_shape=[64, 64, 3]))"
   ]
  },
  {
   "cell_type": "markdown",
   "id": "4c614b5b",
   "metadata": {},
   "source": [
    "Step 2 - Pooling"
   ]
  },
  {
   "cell_type": "code",
   "execution_count": 6,
   "id": "11146458",
   "metadata": {},
   "outputs": [],
   "source": [
    "\n",
    "cnn.add(tf.keras.layers.MaxPool2D(pool_size=2, strides=2))"
   ]
  },
  {
   "cell_type": "markdown",
   "id": "34ee5fbc",
   "metadata": {},
   "source": [
    "Adding a second convolutional layer"
   ]
  },
  {
   "cell_type": "code",
   "execution_count": 7,
   "id": "c46ca81c",
   "metadata": {},
   "outputs": [],
   "source": [
    "cnn.add(tf.keras.layers.Conv2D(filters=32, kernel_size=3, activation='relu'))\n",
    "cnn.add(tf.keras.layers.MaxPool2D(pool_size=2, strides=2))"
   ]
  },
  {
   "cell_type": "markdown",
   "id": "1435a80f",
   "metadata": {},
   "source": [
    "Step 3 - Flattening"
   ]
  },
  {
   "cell_type": "code",
   "execution_count": 8,
   "id": "1bc5485a",
   "metadata": {},
   "outputs": [],
   "source": [
    "cnn.add(tf.keras.layers.Flatten())"
   ]
  },
  {
   "cell_type": "markdown",
   "id": "c32b8d97",
   "metadata": {},
   "source": [
    "Step 4 - Full Connection"
   ]
  },
  {
   "cell_type": "code",
   "execution_count": 9,
   "id": "bb57b8f6",
   "metadata": {},
   "outputs": [],
   "source": [
    "cnn.add(tf.keras.layers.Dense(units=128, activation='relu'))"
   ]
  },
  {
   "cell_type": "markdown",
   "id": "c5933a80",
   "metadata": {},
   "source": [
    "Step 5 - Output Layer"
   ]
  },
  {
   "cell_type": "code",
   "execution_count": 10,
   "id": "82a87e2f",
   "metadata": {},
   "outputs": [],
   "source": [
    "cnn.add(tf.keras.layers.Dense(units=1, activation='sigmoid'))"
   ]
  },
  {
   "cell_type": "markdown",
   "id": "6627c815",
   "metadata": {},
   "source": [
    "Part 3 - Training the CNN\n",
    "\n",
    "Compiling the CNN"
   ]
  },
  {
   "cell_type": "code",
   "execution_count": 11,
   "id": "0c49a04a",
   "metadata": {},
   "outputs": [],
   "source": [
    "\n",
    "cnn.compile(optimizer = 'adam', loss = 'binary_crossentropy', metrics = ['accuracy'])"
   ]
  },
  {
   "cell_type": "markdown",
   "id": "5ffaa710",
   "metadata": {},
   "source": [
    "Early Stopping"
   ]
  },
  {
   "cell_type": "code",
   "execution_count": 12,
   "id": "cd70823a",
   "metadata": {},
   "outputs": [],
   "source": [
    "earlystopping = EarlyStopping(patience=4, monitor='accuracy')"
   ]
  },
  {
   "cell_type": "markdown",
   "id": "0c0d42f6",
   "metadata": {},
   "source": [
    "Training the CNN on the Training set and evaluating it on the Test set"
   ]
  },
  {
   "cell_type": "code",
   "execution_count": 13,
   "id": "44f434f6",
   "metadata": {},
   "outputs": [
    {
     "name": "stdout",
     "output_type": "stream",
     "text": [
      "Epoch 1/100\n",
      "5/5 [==============================] - 10s 2s/step - loss: 0.6708 - accuracy: 0.5946 - val_loss: 0.5552 - val_accuracy: 0.9750\n",
      "Epoch 2/100\n",
      "5/5 [==============================] - 7s 1s/step - loss: 0.5529 - accuracy: 0.8311 - val_loss: 0.3712 - val_accuracy: 0.9500\n",
      "Epoch 3/100\n",
      "5/5 [==============================] - 7s 2s/step - loss: 0.4695 - accuracy: 0.7500 - val_loss: 0.2867 - val_accuracy: 0.9250\n",
      "Epoch 4/100\n",
      "5/5 [==============================] - 7s 1s/step - loss: 0.4061 - accuracy: 0.8108 - val_loss: 0.1553 - val_accuracy: 0.9750\n",
      "Epoch 5/100\n",
      "5/5 [==============================] - 8s 2s/step - loss: 0.3708 - accuracy: 0.8446 - val_loss: 0.1479 - val_accuracy: 0.9750\n",
      "Epoch 6/100\n",
      "5/5 [==============================] - 7s 2s/step - loss: 0.2906 - accuracy: 0.8784 - val_loss: 0.1009 - val_accuracy: 0.9750\n",
      "Epoch 7/100\n",
      "5/5 [==============================] - 7s 1s/step - loss: 0.3103 - accuracy: 0.8784 - val_loss: 0.1010 - val_accuracy: 0.9750\n",
      "Epoch 8/100\n",
      "5/5 [==============================] - 7s 2s/step - loss: 0.2544 - accuracy: 0.9054 - val_loss: 0.1558 - val_accuracy: 0.9250\n",
      "Epoch 9/100\n",
      "5/5 [==============================] - 8s 2s/step - loss: 0.2743 - accuracy: 0.8784 - val_loss: 0.1350 - val_accuracy: 0.9500\n",
      "Epoch 10/100\n",
      "5/5 [==============================] - 7s 1s/step - loss: 0.2640 - accuracy: 0.8919 - val_loss: 0.1106 - val_accuracy: 0.9500\n",
      "Epoch 11/100\n",
      "5/5 [==============================] - 7s 1s/step - loss: 0.2571 - accuracy: 0.8784 - val_loss: 0.1079 - val_accuracy: 0.9500\n",
      "Epoch 12/100\n",
      "5/5 [==============================] - 7s 1s/step - loss: 0.1992 - accuracy: 0.9392 - val_loss: 0.0980 - val_accuracy: 0.9750\n",
      "Epoch 13/100\n",
      "5/5 [==============================] - 7s 1s/step - loss: 0.2137 - accuracy: 0.9324 - val_loss: 0.1125 - val_accuracy: 0.9500\n",
      "Epoch 14/100\n",
      "5/5 [==============================] - 7s 1s/step - loss: 0.2086 - accuracy: 0.9122 - val_loss: 0.0801 - val_accuracy: 0.9750\n",
      "Epoch 15/100\n",
      "5/5 [==============================] - 7s 2s/step - loss: 0.1963 - accuracy: 0.9324 - val_loss: 0.0810 - val_accuracy: 0.9750\n",
      "Epoch 16/100\n",
      "5/5 [==============================] - 7s 1s/step - loss: 0.1886 - accuracy: 0.9324 - val_loss: 0.1309 - val_accuracy: 0.9250\n"
     ]
    },
    {
     "data": {
      "text/plain": [
       "<keras.callbacks.History at 0x201a7e05b20>"
      ]
     },
     "execution_count": 13,
     "metadata": {},
     "output_type": "execute_result"
    }
   ],
   "source": [
    "\n",
    "cnn.fit(x = training_set, validation_data = test_set, epochs = 100, callbacks=[earlystopping])"
   ]
  },
  {
   "cell_type": "code",
   "execution_count": 14,
   "id": "581bb432",
   "metadata": {},
   "outputs": [],
   "source": [
    "cnn.save_weights('weights/weights')"
   ]
  },
  {
   "cell_type": "code",
   "execution_count": 15,
   "id": "82e04ca0",
   "metadata": {},
   "outputs": [],
   "source": [
    "cnn.save('model.h5')"
   ]
  },
  {
   "cell_type": "markdown",
   "id": "bb6483be",
   "metadata": {},
   "source": [
    "Applying model on self download data"
   ]
  },
  {
   "cell_type": "code",
   "execution_count": 19,
   "id": "1c548f4f",
   "metadata": {},
   "outputs": [
    {
     "name": "stdout",
     "output_type": "stream",
     "text": [
      "1/1 [==============================] - 0s 46ms/step\n",
      "{'NORMAL': 0, 'PNEUMONIA': 1}\n"
     ]
    }
   ],
   "source": [
    "\n",
    "import numpy as np\n",
    "from keras.preprocessing import image\n",
    "test_image = tf.keras.utils.load_img(r\"C:\\Users\\aryan\\Desktop\\Deep Learning\\Xray_Covid19\\xray_dataset_covid19\\Predict\\positive.jpg\", target_size = (64, 64))\n",
    "test_image = tf.keras.utils.img_to_array(test_image)\n",
    "test_image = np.expand_dims(test_image, axis = 0)\n",
    "result =cnn.predict(test_image)\n",
    "print(training_set.class_indices)\n",
    "if result[0][0] == 1:\n",
    "  prediction = 'At Risk of Covid'\n",
    "else:\n",
    "  prediction = 'No Risk'"
   ]
  },
  {
   "cell_type": "code",
   "execution_count": 20,
   "id": "ae59f174",
   "metadata": {},
   "outputs": [
    {
     "name": "stdout",
     "output_type": "stream",
     "text": [
      "At Risk of Covid\n"
     ]
    }
   ],
   "source": [
    "print(prediction)"
   ]
  },
  {
   "cell_type": "code",
   "execution_count": null,
   "id": "9774e809",
   "metadata": {},
   "outputs": [],
   "source": []
  },
  {
   "cell_type": "code",
   "execution_count": null,
   "id": "fbd60200",
   "metadata": {},
   "outputs": [],
   "source": []
  }
 ],
 "metadata": {
  "kernelspec": {
   "display_name": "Python 3 (ipykernel)",
   "language": "python",
   "name": "python3"
  },
  "language_info": {
   "codemirror_mode": {
    "name": "ipython",
    "version": 3
   },
   "file_extension": ".py",
   "mimetype": "text/x-python",
   "name": "python",
   "nbconvert_exporter": "python",
   "pygments_lexer": "ipython3",
   "version": "3.9.5"
  }
 },
 "nbformat": 4,
 "nbformat_minor": 5
}
